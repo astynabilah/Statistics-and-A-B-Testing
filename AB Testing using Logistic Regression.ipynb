{
 "cells": [
  {
   "cell_type": "markdown",
   "metadata": {},
   "source": [
    "# A/B Testing: Impact of Campaign Frequency on Deposit Account Openings + Business Recommendation\n",
    "\n",
    "- **Experiment Name:** A/B Testing to Increase Deposit Account Openings Through Campaign Frequency.  \n",
    "- **Hypothesis Definition:**  \n",
    "  - **H0:** The number of campaigns does not influence users' willingness to open a deposit account.  \n",
    "  - **H1:** The number of campaigns increases users' willingness to open a deposit account.  \n",
    "- **Participants:** Bank customers.  \n",
    "- **Tested Variables:**  \n",
    "  - **Independent variable:** Number of campaigns received by customers.  \n",
    "  - **Dependent variable:** Whether the customer opens a deposit account (`y`).  \n",
    "- **Key Metric:** p-value.  \n",
    "- **Output:** Business Recommendation (Scroll down to read the business recommendation.)"
   ]
  },
  {
   "cell_type": "markdown",
   "metadata": {},
   "source": [
    "## Read data"
   ]
  },
  {
   "cell_type": "code",
   "execution_count": 1,
   "metadata": {},
   "outputs": [
    {
     "data": {
      "text/html": [
       "<div>\n",
       "<style scoped>\n",
       "    .dataframe tbody tr th:only-of-type {\n",
       "        vertical-align: middle;\n",
       "    }\n",
       "\n",
       "    .dataframe tbody tr th {\n",
       "        vertical-align: top;\n",
       "    }\n",
       "\n",
       "    .dataframe thead th {\n",
       "        text-align: right;\n",
       "    }\n",
       "</style>\n",
       "<table border=\"1\" class=\"dataframe\">\n",
       "  <thead>\n",
       "    <tr style=\"text-align: right;\">\n",
       "      <th></th>\n",
       "      <th>age</th>\n",
       "      <th>job</th>\n",
       "      <th>marital</th>\n",
       "      <th>education</th>\n",
       "      <th>default</th>\n",
       "      <th>balance</th>\n",
       "      <th>housing</th>\n",
       "      <th>loan</th>\n",
       "      <th>contact</th>\n",
       "      <th>day</th>\n",
       "      <th>month</th>\n",
       "      <th>duration</th>\n",
       "      <th>campaign</th>\n",
       "      <th>pdays</th>\n",
       "      <th>previous</th>\n",
       "      <th>poutcome</th>\n",
       "      <th>y</th>\n",
       "    </tr>\n",
       "  </thead>\n",
       "  <tbody>\n",
       "    <tr>\n",
       "      <th>0</th>\n",
       "      <td>58</td>\n",
       "      <td>management</td>\n",
       "      <td>married</td>\n",
       "      <td>tertiary</td>\n",
       "      <td>no</td>\n",
       "      <td>2143</td>\n",
       "      <td>yes</td>\n",
       "      <td>no</td>\n",
       "      <td>unknown</td>\n",
       "      <td>5</td>\n",
       "      <td>may</td>\n",
       "      <td>261</td>\n",
       "      <td>1</td>\n",
       "      <td>-1</td>\n",
       "      <td>0</td>\n",
       "      <td>unknown</td>\n",
       "      <td>no</td>\n",
       "    </tr>\n",
       "    <tr>\n",
       "      <th>1</th>\n",
       "      <td>44</td>\n",
       "      <td>technician</td>\n",
       "      <td>single</td>\n",
       "      <td>secondary</td>\n",
       "      <td>no</td>\n",
       "      <td>29</td>\n",
       "      <td>yes</td>\n",
       "      <td>no</td>\n",
       "      <td>unknown</td>\n",
       "      <td>5</td>\n",
       "      <td>may</td>\n",
       "      <td>151</td>\n",
       "      <td>1</td>\n",
       "      <td>-1</td>\n",
       "      <td>0</td>\n",
       "      <td>unknown</td>\n",
       "      <td>no</td>\n",
       "    </tr>\n",
       "    <tr>\n",
       "      <th>2</th>\n",
       "      <td>33</td>\n",
       "      <td>entrepreneur</td>\n",
       "      <td>married</td>\n",
       "      <td>secondary</td>\n",
       "      <td>no</td>\n",
       "      <td>2</td>\n",
       "      <td>yes</td>\n",
       "      <td>yes</td>\n",
       "      <td>unknown</td>\n",
       "      <td>5</td>\n",
       "      <td>may</td>\n",
       "      <td>76</td>\n",
       "      <td>1</td>\n",
       "      <td>-1</td>\n",
       "      <td>0</td>\n",
       "      <td>unknown</td>\n",
       "      <td>no</td>\n",
       "    </tr>\n",
       "    <tr>\n",
       "      <th>3</th>\n",
       "      <td>47</td>\n",
       "      <td>blue-collar</td>\n",
       "      <td>married</td>\n",
       "      <td>unknown</td>\n",
       "      <td>no</td>\n",
       "      <td>1506</td>\n",
       "      <td>yes</td>\n",
       "      <td>no</td>\n",
       "      <td>unknown</td>\n",
       "      <td>5</td>\n",
       "      <td>may</td>\n",
       "      <td>92</td>\n",
       "      <td>1</td>\n",
       "      <td>-1</td>\n",
       "      <td>0</td>\n",
       "      <td>unknown</td>\n",
       "      <td>no</td>\n",
       "    </tr>\n",
       "    <tr>\n",
       "      <th>4</th>\n",
       "      <td>33</td>\n",
       "      <td>unknown</td>\n",
       "      <td>single</td>\n",
       "      <td>unknown</td>\n",
       "      <td>no</td>\n",
       "      <td>1</td>\n",
       "      <td>no</td>\n",
       "      <td>no</td>\n",
       "      <td>unknown</td>\n",
       "      <td>5</td>\n",
       "      <td>may</td>\n",
       "      <td>198</td>\n",
       "      <td>1</td>\n",
       "      <td>-1</td>\n",
       "      <td>0</td>\n",
       "      <td>unknown</td>\n",
       "      <td>no</td>\n",
       "    </tr>\n",
       "    <tr>\n",
       "      <th>...</th>\n",
       "      <td>...</td>\n",
       "      <td>...</td>\n",
       "      <td>...</td>\n",
       "      <td>...</td>\n",
       "      <td>...</td>\n",
       "      <td>...</td>\n",
       "      <td>...</td>\n",
       "      <td>...</td>\n",
       "      <td>...</td>\n",
       "      <td>...</td>\n",
       "      <td>...</td>\n",
       "      <td>...</td>\n",
       "      <td>...</td>\n",
       "      <td>...</td>\n",
       "      <td>...</td>\n",
       "      <td>...</td>\n",
       "      <td>...</td>\n",
       "    </tr>\n",
       "    <tr>\n",
       "      <th>45206</th>\n",
       "      <td>51</td>\n",
       "      <td>technician</td>\n",
       "      <td>married</td>\n",
       "      <td>tertiary</td>\n",
       "      <td>no</td>\n",
       "      <td>825</td>\n",
       "      <td>no</td>\n",
       "      <td>no</td>\n",
       "      <td>cellular</td>\n",
       "      <td>17</td>\n",
       "      <td>nov</td>\n",
       "      <td>977</td>\n",
       "      <td>3</td>\n",
       "      <td>-1</td>\n",
       "      <td>0</td>\n",
       "      <td>unknown</td>\n",
       "      <td>yes</td>\n",
       "    </tr>\n",
       "    <tr>\n",
       "      <th>45207</th>\n",
       "      <td>71</td>\n",
       "      <td>retired</td>\n",
       "      <td>divorced</td>\n",
       "      <td>primary</td>\n",
       "      <td>no</td>\n",
       "      <td>1729</td>\n",
       "      <td>no</td>\n",
       "      <td>no</td>\n",
       "      <td>cellular</td>\n",
       "      <td>17</td>\n",
       "      <td>nov</td>\n",
       "      <td>456</td>\n",
       "      <td>2</td>\n",
       "      <td>-1</td>\n",
       "      <td>0</td>\n",
       "      <td>unknown</td>\n",
       "      <td>yes</td>\n",
       "    </tr>\n",
       "    <tr>\n",
       "      <th>45208</th>\n",
       "      <td>72</td>\n",
       "      <td>retired</td>\n",
       "      <td>married</td>\n",
       "      <td>secondary</td>\n",
       "      <td>no</td>\n",
       "      <td>5715</td>\n",
       "      <td>no</td>\n",
       "      <td>no</td>\n",
       "      <td>cellular</td>\n",
       "      <td>17</td>\n",
       "      <td>nov</td>\n",
       "      <td>1127</td>\n",
       "      <td>5</td>\n",
       "      <td>184</td>\n",
       "      <td>3</td>\n",
       "      <td>success</td>\n",
       "      <td>yes</td>\n",
       "    </tr>\n",
       "    <tr>\n",
       "      <th>45209</th>\n",
       "      <td>57</td>\n",
       "      <td>blue-collar</td>\n",
       "      <td>married</td>\n",
       "      <td>secondary</td>\n",
       "      <td>no</td>\n",
       "      <td>668</td>\n",
       "      <td>no</td>\n",
       "      <td>no</td>\n",
       "      <td>telephone</td>\n",
       "      <td>17</td>\n",
       "      <td>nov</td>\n",
       "      <td>508</td>\n",
       "      <td>4</td>\n",
       "      <td>-1</td>\n",
       "      <td>0</td>\n",
       "      <td>unknown</td>\n",
       "      <td>no</td>\n",
       "    </tr>\n",
       "    <tr>\n",
       "      <th>45210</th>\n",
       "      <td>37</td>\n",
       "      <td>entrepreneur</td>\n",
       "      <td>married</td>\n",
       "      <td>secondary</td>\n",
       "      <td>no</td>\n",
       "      <td>2971</td>\n",
       "      <td>no</td>\n",
       "      <td>no</td>\n",
       "      <td>cellular</td>\n",
       "      <td>17</td>\n",
       "      <td>nov</td>\n",
       "      <td>361</td>\n",
       "      <td>2</td>\n",
       "      <td>188</td>\n",
       "      <td>11</td>\n",
       "      <td>other</td>\n",
       "      <td>no</td>\n",
       "    </tr>\n",
       "  </tbody>\n",
       "</table>\n",
       "<p>45211 rows × 17 columns</p>\n",
       "</div>"
      ],
      "text/plain": [
       "       age           job   marital  education default  balance housing loan  \\\n",
       "0       58    management   married   tertiary      no     2143     yes   no   \n",
       "1       44    technician    single  secondary      no       29     yes   no   \n",
       "2       33  entrepreneur   married  secondary      no        2     yes  yes   \n",
       "3       47   blue-collar   married    unknown      no     1506     yes   no   \n",
       "4       33       unknown    single    unknown      no        1      no   no   \n",
       "...    ...           ...       ...        ...     ...      ...     ...  ...   \n",
       "45206   51    technician   married   tertiary      no      825      no   no   \n",
       "45207   71       retired  divorced    primary      no     1729      no   no   \n",
       "45208   72       retired   married  secondary      no     5715      no   no   \n",
       "45209   57   blue-collar   married  secondary      no      668      no   no   \n",
       "45210   37  entrepreneur   married  secondary      no     2971      no   no   \n",
       "\n",
       "         contact  day month  duration  campaign  pdays  previous poutcome    y  \n",
       "0        unknown    5   may       261         1     -1         0  unknown   no  \n",
       "1        unknown    5   may       151         1     -1         0  unknown   no  \n",
       "2        unknown    5   may        76         1     -1         0  unknown   no  \n",
       "3        unknown    5   may        92         1     -1         0  unknown   no  \n",
       "4        unknown    5   may       198         1     -1         0  unknown   no  \n",
       "...          ...  ...   ...       ...       ...    ...       ...      ...  ...  \n",
       "45206   cellular   17   nov       977         3     -1         0  unknown  yes  \n",
       "45207   cellular   17   nov       456         2     -1         0  unknown  yes  \n",
       "45208   cellular   17   nov      1127         5    184         3  success  yes  \n",
       "45209  telephone   17   nov       508         4     -1         0  unknown   no  \n",
       "45210   cellular   17   nov       361         2    188        11    other   no  \n",
       "\n",
       "[45211 rows x 17 columns]"
      ]
     },
     "execution_count": 1,
     "metadata": {},
     "output_type": "execute_result"
    }
   ],
   "source": [
    "import pandas as pd\n",
    "import warnings\n",
    "warnings.simplefilter(action='ignore')\n",
    "\n",
    "df_bank = pd.read_csv('bank.csv', sep=';')\n",
    "df_bank"
   ]
  },
  {
   "cell_type": "markdown",
   "metadata": {},
   "source": [
    "Making sure that there's no duplicated data"
   ]
  },
  {
   "cell_type": "code",
   "execution_count": 2,
   "metadata": {},
   "outputs": [
    {
     "data": {
      "text/plain": [
       "0"
      ]
     },
     "execution_count": 2,
     "metadata": {},
     "output_type": "execute_result"
    }
   ],
   "source": [
    "df_bank.duplicated().sum()"
   ]
  },
  {
   "cell_type": "markdown",
   "metadata": {},
   "source": [
    "## Data distribution"
   ]
  },
  {
   "cell_type": "code",
   "execution_count": 21,
   "metadata": {},
   "outputs": [
    {
     "data": {
      "text/plain": [
       "(0.0, 10.0)"
      ]
     },
     "execution_count": 21,
     "metadata": {},
     "output_type": "execute_result"
    },
    {
     "data": {
      "image/png": "[encoded data removed]",
      "text/plain": [
       "<Figure size 1500x500 with 1 Axes>"
      ]
     },
     "metadata": {},
     "output_type": "display_data"
    }
   ],
   "source": [
    "import matplotlib.pyplot as plt\n",
    "import seaborn as sns\n",
    "\n",
    "yes = df_bank[df_bank['y']=='yes']\n",
    "no = df_bank[df_bank['y']=='no']\n",
    "\n",
    "plt.figure(figsize=(15,5))\n",
    "\n",
    "sns.kdeplot(yes['campaign'],label = 'yes')\n",
    "sns.kdeplot(no['campaign'], label = 'no')\n",
    "\n",
    "plt.legend()\n",
    "plt.xlim(0,10)"
   ]
  },
  {
   "cell_type": "markdown",
   "metadata": {},
   "source": [
    "## Assumption Testing"
   ]
  },
  {
   "cell_type": "code",
   "execution_count": 3,
   "metadata": {},
   "outputs": [
    {
     "name": "stdout",
     "output_type": "stream",
     "text": [
      "Optimization terminated successfully.\n",
      "         Current function value: 0.357001\n",
      "         Iterations 7\n",
      "p-value for assumption test: 2.1470244580500214e-56\n"
     ]
    }
   ],
   "source": [
    "import statsmodels.api as sm\n",
    "import numpy as np\n",
    "\n",
    "X = df_bank[['campaign']] \n",
    "X = sm.add_constant(X) # add constant\n",
    "y = df_bank['y'].apply(lambda x: 1 if x == 'yes' else 0)\n",
    "\n",
    "model = sm.Logit(y, X)\n",
    "result = model.fit()\n",
    "\n",
    "pvalue_asumsi = float(result.pvalues['campaign'])\n",
    "print(f\"p-value for assumption test: {pvalue_asumsi}\")"
   ]
  },
  {
   "cell_type": "markdown",
   "metadata": {},
   "source": [
    "### Why we need constant?\n",
    "\n",
    "The logistic regression model is:  \n",
    "\n",
    "$$ \\text{logit}(y) = \\beta_0 + \\beta_1 \\times \\text{campaign} $$  \n",
    "\n",
    "- Without a constant:  \n",
    "  - The model only considers `campaign` as a predictor.  \n",
    "  - If `campaign = 0`, it assumes the probability of opening an account is 50%, which may not be always true.  \n",
    "\n",
    "- With a constant:  \n",
    "  - The model accounts for a baseline probability even when no campaign is conducted.  \n",
    "  - This makes the model more flexible and realistic.  "
   ]
  },
  {
   "cell_type": "code",
   "execution_count": 4,
   "metadata": {},
   "outputs": [
    {
     "name": "stdout",
     "output_type": "stream",
     "text": [
      "Linearity assumption in logit is met (p-value campaign < 0.05).\n"
     ]
    }
   ],
   "source": [
    "if pvalue_asumsi <= 0.05:\n",
    "    print(\"Linearity assumption in logit is met (p-value campaign < 0.05).\")\n",
    "else:\n",
    "    print(\"Linearity assumption in logit is not met (p-value campaign >= 0.05).\")"
   ]
  },
  {
   "cell_type": "code",
   "execution_count": null,
   "metadata": {},
   "outputs": [
    {
     "name": "stdout",
     "output_type": "stream",
     "text": [
      "Variance Inflation Factor (VIF):\n",
      "   Variable       VIF\n",
      "0     const  2.195649\n",
      "1  campaign  1.000000\n",
      "No significant multicollinearity detected. The model variables are stable.\n"
     ]
    }
   ],
   "source": [
    "from statsmodels.stats.outliers_influence import variance_inflation_factor\n",
    "\n",
    "# Variabel independen dalam model logit\n",
    "X = df_sample[['campaign']]\n",
    "X = sm.add_constant(X)  \n",
    "\n",
    "# Menghitung VIF\n",
    "vif_data = pd.DataFrame()\n",
    "vif_data[\"Variable\"] = X.columns\n",
    "vif_data[\"VIF\"] = [variance_inflation_factor(X.values, i) for i in range(X.shape[1])]\n",
    "\n",
    "print(\"Variance Inflation Factor (VIF):\")\n",
    "print(vif_data)\n",
    "\n",
    "# Check for multicollinearity\n",
    "threshold = 10  # Standard threshold for high multicollinearity\n",
    "high_vif = vif_data[vif_data[\"VIF\"] > threshold]\n",
    "\n",
    "if not high_vif.empty:\n",
    "    print(\"High multicollinearity detected:\")\n",
    "    print(high_vif)\n",
    "    print(\"Consider removing or transforming the variable(s) above.\")\n",
    "else:\n",
    "    print(\"No significant multicollinearity detected. The model variables are stable.\")\n"
   ]
  },
  {
   "cell_type": "markdown",
   "metadata": {},
   "source": [
    "**Assumption Testing & Handling:**  \n",
    "- The p-value confirms that the linearity assumption in logit is met. \n",
    "- There is no significant multicollinearity based on VIF values.\n",
    "\n",
    "**Conclussion**:\n",
    "\n",
    "Logistic regression is an appropriate method for hypothesis testing.  "
   ]
  },
  {
   "cell_type": "markdown",
   "metadata": {},
   "source": [
    "## Hypothesis Testing  \n",
    "\n",
    "- **Hypothesis Formulation:**  \n",
    "  - **H0:** The number of campaigns does not influence users' willingness to open a deposit account.  \n",
    "  - **H1:** The number of campaigns increases users' willingness to open a deposit account.  \n"
   ]
  },
  {
   "cell_type": "markdown",
   "metadata": {},
   "source": [
    "## Step 1: Determine Sample Size and Draw a Sample Using Slovin's Formula\n",
    "\n",
    "To determine the required sample size, **Slovin's formula** is used:  \n",
    "\n",
    "$$n = \\frac{N}{1 + N e^2}$$\n",
    "\n",
    "where:  \n",
    "- **N** = Population size (total number of rows in `df_bank`).  \n",
    "- **e** = Margin of error (set to **5% or 0.05**).  \n",
    "- **n** = Required sample size.  "
   ]
  },
  {
   "cell_type": "code",
   "execution_count": null,
   "metadata": {},
   "outputs": [
    {
     "name": "stdout",
     "output_type": "stream",
     "text": [
      "Sample size based on Slovin's formula: 396\n"
     ]
    }
   ],
   "source": [
    "N = len(df_bank)  # population size\n",
    "e = 0.05  # 5% error rate\n",
    "\n",
    "n = N / (1 + N * e**2)\n",
    "n = int(n)\n",
    "print(f\"Sample size based on Slovin's formula: {n}\")"
   ]
  },
  {
   "cell_type": "code",
   "execution_count": 6,
   "metadata": {},
   "outputs": [
    {
     "data": {
      "text/html": [
       "<div>\n",
       "<style scoped>\n",
       "    .dataframe tbody tr th:only-of-type {\n",
       "        vertical-align: middle;\n",
       "    }\n",
       "\n",
       "    .dataframe tbody tr th {\n",
       "        vertical-align: top;\n",
       "    }\n",
       "\n",
       "    .dataframe thead th {\n",
       "        text-align: right;\n",
       "    }\n",
       "</style>\n",
       "<table border=\"1\" class=\"dataframe\">\n",
       "  <thead>\n",
       "    <tr style=\"text-align: right;\">\n",
       "      <th></th>\n",
       "      <th>age</th>\n",
       "      <th>job</th>\n",
       "      <th>marital</th>\n",
       "      <th>education</th>\n",
       "      <th>default</th>\n",
       "      <th>balance</th>\n",
       "      <th>housing</th>\n",
       "      <th>loan</th>\n",
       "      <th>contact</th>\n",
       "      <th>day</th>\n",
       "      <th>month</th>\n",
       "      <th>duration</th>\n",
       "      <th>campaign</th>\n",
       "      <th>pdays</th>\n",
       "      <th>previous</th>\n",
       "      <th>poutcome</th>\n",
       "      <th>y</th>\n",
       "    </tr>\n",
       "  </thead>\n",
       "  <tbody>\n",
       "    <tr>\n",
       "      <th>111</th>\n",
       "      <td>46</td>\n",
       "      <td>technician</td>\n",
       "      <td>divorced</td>\n",
       "      <td>secondary</td>\n",
       "      <td>no</td>\n",
       "      <td>79</td>\n",
       "      <td>no</td>\n",
       "      <td>no</td>\n",
       "      <td>unknown</td>\n",
       "      <td>5</td>\n",
       "      <td>may</td>\n",
       "      <td>144</td>\n",
       "      <td>1</td>\n",
       "      <td>-1</td>\n",
       "      <td>0</td>\n",
       "      <td>unknown</td>\n",
       "      <td>no</td>\n",
       "    </tr>\n",
       "    <tr>\n",
       "      <th>37757</th>\n",
       "      <td>28</td>\n",
       "      <td>management</td>\n",
       "      <td>single</td>\n",
       "      <td>tertiary</td>\n",
       "      <td>no</td>\n",
       "      <td>1027</td>\n",
       "      <td>yes</td>\n",
       "      <td>no</td>\n",
       "      <td>cellular</td>\n",
       "      <td>14</td>\n",
       "      <td>may</td>\n",
       "      <td>433</td>\n",
       "      <td>1</td>\n",
       "      <td>-1</td>\n",
       "      <td>0</td>\n",
       "      <td>unknown</td>\n",
       "      <td>no</td>\n",
       "    </tr>\n",
       "    <tr>\n",
       "      <th>25073</th>\n",
       "      <td>37</td>\n",
       "      <td>management</td>\n",
       "      <td>married</td>\n",
       "      <td>primary</td>\n",
       "      <td>no</td>\n",
       "      <td>5427</td>\n",
       "      <td>no</td>\n",
       "      <td>no</td>\n",
       "      <td>cellular</td>\n",
       "      <td>18</td>\n",
       "      <td>nov</td>\n",
       "      <td>201</td>\n",
       "      <td>1</td>\n",
       "      <td>159</td>\n",
       "      <td>1</td>\n",
       "      <td>failure</td>\n",
       "      <td>no</td>\n",
       "    </tr>\n",
       "    <tr>\n",
       "      <th>3261</th>\n",
       "      <td>42</td>\n",
       "      <td>blue-collar</td>\n",
       "      <td>single</td>\n",
       "      <td>secondary</td>\n",
       "      <td>no</td>\n",
       "      <td>1306</td>\n",
       "      <td>yes</td>\n",
       "      <td>no</td>\n",
       "      <td>unknown</td>\n",
       "      <td>15</td>\n",
       "      <td>may</td>\n",
       "      <td>265</td>\n",
       "      <td>1</td>\n",
       "      <td>-1</td>\n",
       "      <td>0</td>\n",
       "      <td>unknown</td>\n",
       "      <td>no</td>\n",
       "    </tr>\n",
       "    <tr>\n",
       "      <th>15096</th>\n",
       "      <td>30</td>\n",
       "      <td>management</td>\n",
       "      <td>married</td>\n",
       "      <td>tertiary</td>\n",
       "      <td>no</td>\n",
       "      <td>248</td>\n",
       "      <td>no</td>\n",
       "      <td>no</td>\n",
       "      <td>cellular</td>\n",
       "      <td>17</td>\n",
       "      <td>jul</td>\n",
       "      <td>692</td>\n",
       "      <td>1</td>\n",
       "      <td>-1</td>\n",
       "      <td>0</td>\n",
       "      <td>unknown</td>\n",
       "      <td>no</td>\n",
       "    </tr>\n",
       "    <tr>\n",
       "      <th>...</th>\n",
       "      <td>...</td>\n",
       "      <td>...</td>\n",
       "      <td>...</td>\n",
       "      <td>...</td>\n",
       "      <td>...</td>\n",
       "      <td>...</td>\n",
       "      <td>...</td>\n",
       "      <td>...</td>\n",
       "      <td>...</td>\n",
       "      <td>...</td>\n",
       "      <td>...</td>\n",
       "      <td>...</td>\n",
       "      <td>...</td>\n",
       "      <td>...</td>\n",
       "      <td>...</td>\n",
       "      <td>...</td>\n",
       "      <td>...</td>\n",
       "    </tr>\n",
       "    <tr>\n",
       "      <th>16213</th>\n",
       "      <td>33</td>\n",
       "      <td>housemaid</td>\n",
       "      <td>married</td>\n",
       "      <td>secondary</td>\n",
       "      <td>no</td>\n",
       "      <td>0</td>\n",
       "      <td>yes</td>\n",
       "      <td>yes</td>\n",
       "      <td>cellular</td>\n",
       "      <td>23</td>\n",
       "      <td>jul</td>\n",
       "      <td>85</td>\n",
       "      <td>13</td>\n",
       "      <td>-1</td>\n",
       "      <td>0</td>\n",
       "      <td>unknown</td>\n",
       "      <td>no</td>\n",
       "    </tr>\n",
       "    <tr>\n",
       "      <th>16698</th>\n",
       "      <td>47</td>\n",
       "      <td>self-employed</td>\n",
       "      <td>married</td>\n",
       "      <td>tertiary</td>\n",
       "      <td>no</td>\n",
       "      <td>751</td>\n",
       "      <td>no</td>\n",
       "      <td>no</td>\n",
       "      <td>cellular</td>\n",
       "      <td>24</td>\n",
       "      <td>jul</td>\n",
       "      <td>408</td>\n",
       "      <td>14</td>\n",
       "      <td>-1</td>\n",
       "      <td>0</td>\n",
       "      <td>unknown</td>\n",
       "      <td>no</td>\n",
       "    </tr>\n",
       "    <tr>\n",
       "      <th>23627</th>\n",
       "      <td>31</td>\n",
       "      <td>housemaid</td>\n",
       "      <td>married</td>\n",
       "      <td>tertiary</td>\n",
       "      <td>no</td>\n",
       "      <td>0</td>\n",
       "      <td>no</td>\n",
       "      <td>no</td>\n",
       "      <td>unknown</td>\n",
       "      <td>28</td>\n",
       "      <td>aug</td>\n",
       "      <td>12</td>\n",
       "      <td>15</td>\n",
       "      <td>-1</td>\n",
       "      <td>0</td>\n",
       "      <td>unknown</td>\n",
       "      <td>no</td>\n",
       "    </tr>\n",
       "    <tr>\n",
       "      <th>16922</th>\n",
       "      <td>31</td>\n",
       "      <td>management</td>\n",
       "      <td>married</td>\n",
       "      <td>tertiary</td>\n",
       "      <td>no</td>\n",
       "      <td>430</td>\n",
       "      <td>yes</td>\n",
       "      <td>no</td>\n",
       "      <td>cellular</td>\n",
       "      <td>25</td>\n",
       "      <td>jul</td>\n",
       "      <td>137</td>\n",
       "      <td>16</td>\n",
       "      <td>-1</td>\n",
       "      <td>0</td>\n",
       "      <td>unknown</td>\n",
       "      <td>no</td>\n",
       "    </tr>\n",
       "    <tr>\n",
       "      <th>13929</th>\n",
       "      <td>47</td>\n",
       "      <td>admin.</td>\n",
       "      <td>married</td>\n",
       "      <td>secondary</td>\n",
       "      <td>no</td>\n",
       "      <td>3386</td>\n",
       "      <td>no</td>\n",
       "      <td>yes</td>\n",
       "      <td>cellular</td>\n",
       "      <td>10</td>\n",
       "      <td>jul</td>\n",
       "      <td>360</td>\n",
       "      <td>17</td>\n",
       "      <td>-1</td>\n",
       "      <td>0</td>\n",
       "      <td>unknown</td>\n",
       "      <td>no</td>\n",
       "    </tr>\n",
       "  </tbody>\n",
       "</table>\n",
       "<p>393 rows × 17 columns</p>\n",
       "</div>"
      ],
      "text/plain": [
       "       age            job   marital  education default  balance housing loan  \\\n",
       "111     46     technician  divorced  secondary      no       79      no   no   \n",
       "37757   28     management    single   tertiary      no     1027     yes   no   \n",
       "25073   37     management   married    primary      no     5427      no   no   \n",
       "3261    42    blue-collar    single  secondary      no     1306     yes   no   \n",
       "15096   30     management   married   tertiary      no      248      no   no   \n",
       "...    ...            ...       ...        ...     ...      ...     ...  ...   \n",
       "16213   33      housemaid   married  secondary      no        0     yes  yes   \n",
       "16698   47  self-employed   married   tertiary      no      751      no   no   \n",
       "23627   31      housemaid   married   tertiary      no        0      no   no   \n",
       "16922   31     management   married   tertiary      no      430     yes   no   \n",
       "13929   47         admin.   married  secondary      no     3386      no  yes   \n",
       "\n",
       "        contact  day month  duration  campaign  pdays  previous poutcome   y  \n",
       "111     unknown    5   may       144         1     -1         0  unknown  no  \n",
       "37757  cellular   14   may       433         1     -1         0  unknown  no  \n",
       "25073  cellular   18   nov       201         1    159         1  failure  no  \n",
       "3261    unknown   15   may       265         1     -1         0  unknown  no  \n",
       "15096  cellular   17   jul       692         1     -1         0  unknown  no  \n",
       "...         ...  ...   ...       ...       ...    ...       ...      ...  ..  \n",
       "16213  cellular   23   jul        85        13     -1         0  unknown  no  \n",
       "16698  cellular   24   jul       408        14     -1         0  unknown  no  \n",
       "23627   unknown   28   aug        12        15     -1         0  unknown  no  \n",
       "16922  cellular   25   jul       137        16     -1         0  unknown  no  \n",
       "13929  cellular   10   jul       360        17     -1         0  unknown  no  \n",
       "\n",
       "[393 rows x 17 columns]"
      ]
     },
     "execution_count": 6,
     "metadata": {},
     "output_type": "execute_result"
    }
   ],
   "source": [
    "campaign_counts = df_bank['campaign'].value_counts(normalize=True)\n",
    "campaign_sample_sizes = (campaign_counts * n).round().astype(int)\n",
    "\n",
    "df_sample = df_bank.groupby('campaign', group_keys=False).apply(\n",
    "    lambda x: x.sample(n=campaign_sample_sizes.loc[x.name], random_state=42)\n",
    ")\n",
    "\n",
    "df_sample"
   ]
  },
  {
   "cell_type": "markdown",
   "metadata": {},
   "source": [
    "### Campaign Distribution Comparison: Original vs Sample  \n",
    "To ensure the sampled data maintains a similar distribution as the original dataset, let's compare the campaign frequency distribution before and after sampling. Since the original and sampled datasets may have different sizes, using percentage instead of absolute counts allows for a fair comparison.  \n",
    "\n",
    "The bar chart below compares the proportion of `campaign` values in the original dataset and the sampled dataset."
   ]
  },
  {
   "cell_type": "code",
   "execution_count": 7,
   "metadata": {},
   "outputs": [
    {
     "data": {
      "image/png": "[encoded data removed]",
      "text/plain": [
       "<Figure size 1000x500 with 1 Axes>"
      ]
     },
     "metadata": {},
     "output_type": "display_data"
    }
   ],
   "source": [
    "import matplotlib.pyplot as plt\n",
    "\n",
    "total_original = len(df_bank)\n",
    "total_sample = len(df_sample)\n",
    "\n",
    "campaign_dist_original = (df_bank['campaign'].value_counts() / total_original) * 100\n",
    "campaign_dist_sample = (df_sample['campaign'].value_counts() / total_sample) * 100\n",
    "\n",
    "plt.figure(figsize=(10,5))\n",
    "\n",
    "plt.bar(campaign_dist_original.index - 0.2, campaign_dist_original.values, width=0.4, \n",
    "        label=\"Original Dataset\", alpha=0.85, color='#4a90e2')\n",
    "plt.bar(campaign_dist_sample.index + 0.2, campaign_dist_sample.values, width=0.4, \n",
    "        label=\"Sample Dataset\", alpha=0.85, color='#f5a623')\n",
    "\n",
    "plt.xlabel(\"Campaign Count\")\n",
    "plt.ylabel(\"Percentage (%)\")\n",
    "plt.title(\"Comparison of Campaign Distribution (Original vs Sample)\")\n",
    "plt.xticks(sorted(df_bank['campaign'].unique()))\n",
    "plt.legend()\n",
    "plt.show()"
   ]
  },
  {
   "cell_type": "code",
   "execution_count": 8,
   "metadata": {},
   "outputs": [
    {
     "data": {
      "image/png": "[encoded data removed]",
      "text/plain": [
       "<Figure size 600x500 with 1 Axes>"
      ]
     },
     "metadata": {},
     "output_type": "display_data"
    }
   ],
   "source": [
    "import matplotlib.pyplot as plt\n",
    "\n",
    "total_original = len(df_bank)\n",
    "total_sample = len(df_sample)\n",
    "\n",
    "y_dist_original = (df_bank['y'].value_counts() / total_original) * 100\n",
    "y_dist_sample = (df_sample['y'].value_counts() / total_sample) * 100\n",
    "\n",
    "plt.figure(figsize=(6,5))\n",
    "\n",
    "plt.bar(y_dist_original.index, y_dist_original.values, width=0.4, label=\"Original Dataset\", alpha=0.7, color='#4a90e2')\n",
    "plt.bar(y_dist_sample.index, y_dist_sample.values, width=0.4, label=\"Sample Dataset\", alpha=0.7, color='#f5a623')\n",
    "\n",
    "plt.xlabel(\"Subscription Status (y)\")\n",
    "plt.ylabel(\"Percentage (%)\")\n",
    "plt.title(\"Comparison of Subscription Status Distribution (Original vs Sample)\")\n",
    "plt.xticks(['no', 'yes'])\n",
    "plt.legend()\n",
    "plt.show()"
   ]
  },
  {
   "cell_type": "code",
   "execution_count": 26,
   "metadata": {},
   "outputs": [
    {
     "data": {
      "image/png": "[encoded data removed]",
      "text/plain": [
       "<Figure size 1200x500 with 2 Axes>"
      ]
     },
     "metadata": {},
     "output_type": "display_data"
    }
   ],
   "source": [
    "\n",
    "df_bank_y_counts = df_bank['y'].value_counts(normalize=True) * 100\n",
    "df_sample_y_counts = df_sample['y'].value_counts(normalize=True) * 100\n",
    "\n",
    "fig, axes = plt.subplots(1, 2, figsize=(12, 5))\n",
    "\n",
    "axes[0].bar(df_bank_y_counts.index, df_bank_y_counts.values, color=['#3498db', '#e67e22'])\n",
    "axes[0].set_title(\"Original Dataset Distribution\")\n",
    "axes[0].set_xlabel(\"Subscription Status (y)\")\n",
    "axes[0].set_ylabel(\"Percentage (%)\")\n",
    "\n",
    "for i, v in enumerate(df_bank_y_counts.values):\n",
    "    axes[0].text(i, v + 1, f\"{v:.1f}%\", ha='center', fontsize=12)\n",
    "\n",
    "axes[1].bar(df_sample_y_counts.index, df_sample_y_counts.values, color=['#3498db', '#e67e22'])\n",
    "axes[1].set_title(\"Sample Dataset Distribution\")\n",
    "axes[1].set_xlabel(\"Subscription Status (y)\")\n",
    "axes[1].set_ylabel(\"Percentage (%)\")\n",
    "\n",
    "for i, v in enumerate(df_sample_y_counts.values):\n",
    "    axes[1].text(i, v + 1, f\"{v:.1f}%\", ha='center', fontsize=12)\n",
    "\n",
    "plt.tight_layout()\n",
    "plt.show()"
   ]
  },
  {
   "cell_type": "code",
   "execution_count": 9,
   "metadata": {},
   "outputs": [
    {
     "data": {
      "image/png": "[encoded data removed]",
      "text/plain": [
       "<Figure size 600x500 with 1 Axes>"
      ]
     },
     "metadata": {},
     "output_type": "display_data"
    }
   ],
   "source": [
    "import matplotlib.pyplot as plt\n",
    "\n",
    "y_counts = df_sample['y'].value_counts()\n",
    "\n",
    "plt.figure(figsize=(6,5))\n",
    "bars = plt.bar(y_counts.index, y_counts.values, color=['#3498db', '#e67e22'])\n",
    "\n",
    "for bar in bars:\n",
    "    yval = bar.get_height()\n",
    "    plt.text(bar.get_x() + bar.get_width()/2, \n",
    "             yval * 1.01,\n",
    "             f\"{int(yval)}\", \n",
    "             ha='center')\n",
    "\n",
    "# Labeling\n",
    "plt.xlabel(\"Subscription Status (y)\", fontsize=12)\n",
    "plt.ylabel(\"Count\", fontsize=12)\n",
    "plt.title(\"Subscription Status Distribution in Sample Dataset\")\n",
    "plt.xticks(['no', 'yes'], fontsize=11)\n",
    "plt.yticks(fontsize=11)\n",
    "\n",
    "plt.show()"
   ]
  },
  {
   "cell_type": "markdown",
   "metadata": {},
   "source": [
    "From the charts, we can confirm that the data distribution of original and sample are quite the same. Hence, we can move to the next step."
   ]
  },
  {
   "cell_type": "markdown",
   "metadata": {},
   "source": [
    "## Step 2: Pre-processing; Change target to integer\n",
    "(yes = 1, no = 0)"
   ]
  },
  {
   "cell_type": "code",
   "execution_count": 10,
   "metadata": {},
   "outputs": [],
   "source": [
    "df_sample['y'] = df_sample['y'].apply(lambda x: 1 if x == 'yes' else 0)"
   ]
  },
  {
   "cell_type": "markdown",
   "metadata": {},
   "source": [
    "## Step 3: Modeling Using Logistic Regression and Extracting P-Value"
   ]
  },
  {
   "cell_type": "markdown",
   "metadata": {},
   "source": [
    "### Getting p-value"
   ]
  },
  {
   "cell_type": "code",
   "execution_count": 11,
   "metadata": {},
   "outputs": [],
   "source": [
    "X = df_sample[['campaign']]\n",
    "X = sm.add_constant(X)\n",
    "y = df_sample['y']"
   ]
  },
  {
   "cell_type": "code",
   "execution_count": 12,
   "metadata": {},
   "outputs": [
    {
     "name": "stdout",
     "output_type": "stream",
     "text": [
      "Optimization terminated successfully.\n",
      "         Current function value: 0.384171\n",
      "         Iterations 6\n",
      "                           Logit Regression Results                           \n",
      "==============================================================================\n",
      "Dep. Variable:                      y   No. Observations:                  393\n",
      "Model:                          Logit   Df Residuals:                      391\n",
      "Method:                           MLE   Df Model:                            1\n",
      "Date:                Wed, 05 Mar 2025   Pseudo R-squ.:                0.004613\n",
      "Time:                        20:36:48   Log-Likelihood:                -150.98\n",
      "converged:                       True   LL-Null:                       -151.68\n",
      "Covariance Type:            nonrobust   LLR p-value:                    0.2368\n",
      "==============================================================================\n",
      "                 coef    std err          z      P>|z|      [0.025      0.975]\n",
      "------------------------------------------------------------------------------\n",
      "const         -1.6928      0.235     -7.215      0.000      -2.153      -1.233\n",
      "campaign      -0.0863      0.079     -1.097      0.273      -0.241       0.068\n",
      "==============================================================================\n",
      "P-value: 0.272776944411258215339444177516\n"
     ]
    }
   ],
   "source": [
    "model = sm.Logit(y, X)\n",
    "result = model.fit()\n",
    "p_value = result.pvalues['campaign']\n",
    "print(result.summary())\n",
    "print(\"P-value: {:.30f}\".format(p_value))"
   ]
  },
  {
   "cell_type": "code",
   "execution_count": 13,
   "metadata": {},
   "outputs": [
    {
     "name": "stdout",
     "output_type": "stream",
     "text": [
      "Accept H0; meaning there is not enough evidence that the number of campaigns affects users' willingness to open a deposit account.\n"
     ]
    }
   ],
   "source": [
    "if p_value >= 0.05:\n",
    "    print(\"Accept H0; meaning there is not enough evidence that the number of campaigns affects users' willingness to open a deposit account.\")\n",
    "else:\n",
    "    print(\"Accept H1; meaning there is sufficient evidence that the number of campaigns increases users' willingness to open a deposit account.\")"
   ]
  },
  {
   "cell_type": "markdown",
   "metadata": {},
   "source": [
    "### Calculating Odds Ratio\n",
    "\n",
    "The **odds ratio (OR)** measures how a predictor variable (in this case, `campaign`) affects the likelihood of an event occurring (customers opening a deposit account). It is calculated as:  \n",
    "\n",
    "$$\n",
    "\\text{Odds Ratio} = e^{\\beta}\n",
    "$$\n",
    "\n",
    "where **$\\beta$** is the coefficient of `campaign` from the logistic regression model."
   ]
  },
  {
   "cell_type": "code",
   "execution_count": 14,
   "metadata": {},
   "outputs": [
    {
     "name": "stdout",
     "output_type": "stream",
     "text": [
      "Odds Ratio for campaign: 0.9173\n",
      "OR < 1: The higher the number of campaigns, the lower the likelihood that customers will open a deposit account.\n"
     ]
    }
   ],
   "source": [
    "odds_ratio = np.exp(result.params['campaign'])\n",
    "print(f\"Odds Ratio for campaign: {odds_ratio:.4f}\")\n",
    "if odds_ratio > 1:\n",
    "    print(\"OR > 1: The higher the number of campaigns, the greater the likelihood that customers will open a deposit account.\")\n",
    "elif odds_ratio < 1:\n",
    "    print(\"OR < 1: The higher the number of campaigns, the lower the likelihood that customers will open a deposit account.\")\n",
    "else:\n",
    "    print(\"OR = 1: The number of campaigns has no effect on the likelihood of customers opening a deposit account.\")\n"
   ]
  },
  {
   "cell_type": "markdown",
   "metadata": {},
   "source": [
    "### Quadratic Term"
   ]
  },
  {
   "cell_type": "code",
   "execution_count": 15,
   "metadata": {},
   "outputs": [
    {
     "name": "stdout",
     "output_type": "stream",
     "text": [
      "Optimization terminated successfully.\n",
      "         Current function value: 0.384132\n",
      "         Iterations 7\n",
      "                           Logit Regression Results                           \n",
      "==============================================================================\n",
      "Dep. Variable:                      y   No. Observations:                  393\n",
      "Model:                          Logit   Df Residuals:                      390\n",
      "Method:                           MLE   Df Model:                            2\n",
      "Date:                Wed, 05 Mar 2025   Pseudo R-squ.:                0.004712\n",
      "Time:                        20:36:48   Log-Likelihood:                -150.96\n",
      "converged:                       True   LL-Null:                       -151.68\n",
      "Covariance Type:            nonrobust   LLR p-value:                    0.4893\n",
      "====================================================================================\n",
      "                       coef    std err          z      P>|z|      [0.025      0.975]\n",
      "------------------------------------------------------------------------------------\n",
      "const               -1.7360      0.344     -5.041      0.000      -2.411      -1.061\n",
      "campaign            -0.0557      0.195     -0.285      0.775      -0.438       0.327\n",
      "campaign_squared    -0.0031      0.018     -0.169      0.866      -0.039       0.033\n",
      "====================================================================================\n",
      "\n",
      "The coefficient of campaign_squared is not significantly negative.\n",
      "There is no evidence that additional campaigns become less effective,\n",
      "so the business/marketing team can consider increasing campaign frequency to drive more deposit account openings.\n"
     ]
    }
   ],
   "source": [
    "import statsmodels.api as sm\n",
    "\n",
    "# Create quadratic term for campaign\n",
    "df_sample['campaign_squared'] = df_sample['campaign'] ** 2\n",
    "\n",
    "X = sm.add_constant(df_sample[['campaign', 'campaign_squared']])\n",
    "y = df_sample['y']\n",
    "\n",
    "# Fit logistic regression model with quadratic term\n",
    "model_quad = sm.Logit(y, X)\n",
    "result_quad = model_quad.fit()\n",
    "\n",
    "print(result_quad.summary())\n",
    "\n",
    "coef_campaign_squared = result_quad.params['campaign_squared']\n",
    "pval_campaign_squared = result_quad.pvalues['campaign_squared']\n",
    "\n",
    "if coef_campaign_squared < 0 and pval_campaign_squared < 0.05:\n",
    "    print(\"\\nThe coefficient of campaign_squared is negative and statistically significant (p < 0.05).\")\n",
    "    print(\"This suggests that there are diminishing returns: after a certain number of campaigns,\\nadditional campaigns may have a decreasing effect on the likelihood of opening a deposit account.\")\n",
    "else:\n",
    "    print(\"\\nThe coefficient of campaign_squared is not significantly negative.\")\n",
    "    print(\"There is no evidence that additional campaigns become less effective,\\nso the business/marketing team can consider increasing campaign frequency to drive more deposit account openings.\")\n"
   ]
  },
  {
   "cell_type": "markdown",
   "metadata": {},
   "source": [
    "## Business Recommendations  \n",
    "\n",
    "### Key Findings  \n",
    "1. There is no strong evidence that the number of campaigns significantly influences users' willingness to open a deposit account.  \n",
    "2. If there is any effect, it is slightly negative; more campaigns may actually decrease the likelihood of customers opening a deposit account.  \n",
    "3. However, there is no clear diminishing returns effect, meaning that adding more campaigns does not make the situation worse over time, but it also does not improve it.  \n",
    "\n",
    "### Business/Marketing Recommendations  \n",
    "#### 1. Do not increase campaign frequency without strategy  \n",
    "Since there is no strong evidence that campaigns have a positive impact, the business should stop increasing campaign numbers blindly and focus on improving quality.  \n",
    "\n",
    "#### 2. Investigate why more campaigns may slightly reduce conversions  \n",
    "More campaigns might annoy customers or feel irrelevant. The marketing team should test whether customers feel overwhelmed and adjust the campaign approach accordingly.  \n",
    "\n",
    "#### 3. Focus on precision rather than frequency  \n",
    "Instead of increasing campaigns for all customers, use data-driven targeting to send fewer but more effective campaigns to the right audience.  \n",
    "\n",
    "#### 4. Test alternative engagement methods  \n",
    "Since more campaigns do not necessarily help or harm, try other approaches such as emails, in-app notifications, or personalized offers."
   ]
  }
 ],
 "metadata": {
  "kernelspec": {
   "display_name": "base",
   "language": "python",
   "name": "python3"
  },
  "language_info": {
   "codemirror_mode": {
    "name": "ipython",
    "version": 3
   },
   "file_extension": ".py",
   "mimetype": "text/x-python",
   "name": "python",
   "nbconvert_exporter": "python",
   "pygments_lexer": "ipython3",
   "version": "3.12.3"
  }
 },
 "nbformat": 4,
 "nbformat_minor": 2
}
